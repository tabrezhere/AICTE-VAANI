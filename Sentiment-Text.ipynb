{
 "cells": [
  {
   "cell_type": "code",
   "execution_count": null,
   "id": "3c4ee45a",
   "metadata": {},
   "outputs": [],
   "source": [
    "# Install\n",
    "!pip install transformers\n",
    "\n",
    "# Import pipeline\n",
    "from transformers import pipeline"
   ]
  },
  {
   "cell_type": "code",
   "execution_count": null,
   "id": "616e013f",
   "metadata": {},
   "outputs": [],
   "source": [
    "# Sentiment Analysis demo\n",
    "classifier = pipeline(\"sentiment-analysis\")\n",
    "print(classifier(\"ISL AI  workshop is very Informative and simple!\"))"
   ]
  },
  {
   "cell_type": "code",
   "execution_count": null,
   "id": "ceabb512",
   "metadata": {},
   "outputs": [],
   "source": [
    "# Text Generation demo (GPT-2 or similar)\n",
    "generator = pipeline(\"text-generation\", model=\"gpt2\")\n",
    "print(generator(\"Once upon a time in AI research,\", max_length=40, num_return_sequences=1))"
   ]
  }
 ],
 "metadata": {
  "language_info": {
   "name": "python"
  }
 },
 "nbformat": 4,
 "nbformat_minor": 5
}
